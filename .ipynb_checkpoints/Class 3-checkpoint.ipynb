{
 "cells": [
  {
   "cell_type": "code",
   "execution_count": 1,
   "id": "c8a1268d",
   "metadata": {},
   "outputs": [],
   "source": [
    "class Queue: \n",
    "    class Node:\n",
    "        def __init__(self, data):\n",
    "            self.data = data\n",
    "            self.next = None\n",
    "            \n",
    "        def __init__(self):\n",
    "            self.back = None\n",
    "        def enqueue(self, element):\n",
    "            new_node = self.Node(element)\n",
    "            if self.back == None:\n",
    "                self.back = new_node\n",
    "            else:\n",
    "                new_node.next = self.back\n",
    "                self.back = new_node\n",
    "        def dequeue(self):\n",
    "            if self.base == None:\n",
    "                raise IndexError(\"Queue empty\")\n",
    "            else:\n",
    "                current = self.base\n",
    "                prev = None\n",
    "                while current.next:\n",
    "                    prev = current\n",
    "                    current = current.next\n",
    "                if prev == None:\n",
    "                    datum = current.data\n",
    "                    self.base = None\n",
    "                    return datum\n",
    "                else:\n",
    "                    datum = current.data\n",
    "                    prev.next = None\n",
    "                    return datum\n",
    "                \n",
    "        def size(self):\n",
    "            count = 0\n",
    "            current = self.back\n",
    "            while current:\n",
    "                count += 1\n",
    "                current = current.next\n",
    "            return count\n",
    "        def peek(self):\n",
    "            if self.back == None:\n",
    "                raise IndexError(\"Queue empty\")\n",
    "            else:\n",
    "                current = self.back\n",
    "                while current.next:\n",
    "                    current = current.next\n",
    "                return current.data\n",
    "        def __sum__(self):\n",
    "            #returns the sum of all the data.\n",
    "            count = 0\n",
    "            current = self.back\n",
    "            while current:\n",
    "                if type(current.data) != int:\n",
    "                    raise TypeError(\"Integers only\")\n",
    "                count += current.data\n",
    "                current = current.next\n",
    "            return count\n",
    "        def is_empty(self):\n",
    "            return self.back == None\n",
    "        "
   ]
  },
  {
   "cell_type": "code",
   "execution_count": 2,
   "id": "73501571",
   "metadata": {},
   "outputs": [
    {
     "data": {
      "text/plain": [
       "3628800"
      ]
     },
     "execution_count": 2,
     "metadata": {},
     "output_type": "execute_result"
    }
   ],
   "source": [
    "#Recursion:\n",
    "def fact(n):\n",
    "    if n ==0:\n",
    "        return 1\n",
    "    return n*fact(n-1)\n",
    "\n",
    "fact(10)"
   ]
  },
  {
   "cell_type": "code",
   "execution_count": 8,
   "id": "8eca3f18",
   "metadata": {},
   "outputs": [
    {
     "data": {
      "text/plain": [
       "354224848179261915075"
      ]
     },
     "execution_count": 8,
     "metadata": {},
     "output_type": "execute_result"
    }
   ],
   "source": [
    "from functools import lru_cache\n",
    "\n",
    "@lru_cache\n",
    "def fib(n):\n",
    "    if n < 2:\n",
    "        return n\n",
    "    return fib(n-1) + fib(n-2)\n",
    "\n",
    "fib(100)\n"
   ]
  },
  {
   "cell_type": "markdown",
   "id": "421da72b",
   "metadata": {},
   "source": [
    "#singly linked lists\n",
    "\n",
    "1. singly linked list\n",
    "2. doubly linked list\n",
    "\n",
    "singly linked list is a uni-directional. every node refferences the next node\n",
    "\n",
    "doubly are bi-directional. every node refferences the previous and the next node.\n",
    "\n"
   ]
  },
  {
   "cell_type": "code",
   "execution_count": 9,
   "id": "787ebb3f",
   "metadata": {},
   "outputs": [],
   "source": [
    "#implement append, remove, insert, index, and override the __str__ method so that the list is printed just like a python list.\n",
    "\n"
   ]
  },
  {
   "cell_type": "code",
   "execution_count": 11,
   "id": "d882089b",
   "metadata": {},
   "outputs": [],
   "source": [
    "class SinglyLinkedList:\n",
    "    class Node:\n",
    "        def __init__(self, data):\n",
    "            self.data = data\n",
    "            self.next = None\n",
    "    def __init__(self):\n",
    "        self.head = None\n",
    "    def append(self, value):\n",
    "        pass\n",
    "    def remove(self, value):\n",
    "        pass\n",
    "    def insert(self, index, value):\n",
    "        pass\n",
    "    def index(self, index):\n",
    "        pass\n",
    "    def __str__(self):\n",
    "        #must return string in a list format: [1,2,3]\n",
    "        #consider the 3 states we have been working with\n",
    "        #previous data structures\n",
    "        pass"
   ]
  },
  {
   "cell_type": "code",
   "execution_count": null,
   "id": "01eae1f2",
   "metadata": {},
   "outputs": [],
   "source": []
  }
 ],
 "metadata": {
  "kernelspec": {
   "display_name": "Python 3 (ipykernel)",
   "language": "python",
   "name": "python3"
  },
  "language_info": {
   "codemirror_mode": {
    "name": "ipython",
    "version": 3
   },
   "file_extension": ".py",
   "mimetype": "text/x-python",
   "name": "python",
   "nbconvert_exporter": "python",
   "pygments_lexer": "ipython3",
   "version": "3.10.6"
  }
 },
 "nbformat": 4,
 "nbformat_minor": 5
}
