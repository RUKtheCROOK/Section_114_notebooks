{
 "cells": [
  {
   "cell_type": "code",
   "execution_count": 5,
   "id": "9dc2f587",
   "metadata": {},
   "outputs": [
    {
     "name": "stdout",
     "output_type": "stream",
     "text": [
      "h\n",
      "e\n",
      "l\n",
      "l\n",
      "o\n",
      ",\n",
      " \n",
      "w\n",
      "o\n",
      "r\n",
      "l\n",
      "d\n"
     ]
    }
   ],
   "source": [
    "for letter in \"hello, world\":\n",
    "    print(letter)"
   ]
  },
  {
   "cell_type": "markdown",
   "id": "bf113805",
   "metadata": {},
   "source": [
    "Anagram challenge: \n",
    "\n",
    "given sting_a and string_b, make a function that returns true if the two stings are anagrams of one another, false otherwise.\n",
    "*Criteria*\n",
    "1. They are equal length\n",
    "2. They use the same characters the same ammount of times.\n",
    "\n",
    "My plan:\n",
    "split the string.\n",
    "count the length.\n",
    "if equal continue.\n",
    "for loop to filter the letters counts.\n",
    "if count is equal for each letter return true."
   ]
  },
  {
   "cell_type": "code",
   "execution_count": 17,
   "id": "061b5221",
   "metadata": {},
   "outputs": [
    {
     "name": "stdout",
     "output_type": "stream",
     "text": [
      "True\n"
     ]
    }
   ],
   "source": [
    "# My first solution -- too heavy on built-in's\n",
    "\n",
    "string1 = \"Tom Marvolo Riddle\"\n",
    "string2 = \"I am Lord Voldemort\"\n",
    "\n",
    "def anagram(string_a, string_b):\n",
    "    asplit = string_a.lower().split()\n",
    "    bsplit = string_b.lower().split()\n",
    "    a = \"\".join(asplit)\n",
    "    b = \"\".join(bsplit)\n",
    "    count = 0\n",
    "    if (len(a)) != (len(b)):\n",
    "        return False\n",
    "    if (len(a)) == (len(b)):\n",
    "        for letter in a:\n",
    "            if (a.count(str(letter))) == (b.count(str(letter))):\n",
    "                count +=1\n",
    "            else:\n",
    "                return False\n",
    "    if count == (len(a)) and count == (len(b)):\n",
    "        return True\n",
    "\n",
    "print(anagram(string1, string2))"
   ]
  },
  {
   "cell_type": "code",
   "execution_count": 16,
   "id": "9bda1106",
   "metadata": {},
   "outputs": [
    {
     "name": "stdout",
     "output_type": "stream",
     "text": [
      "True\n"
     ]
    }
   ],
   "source": [
    "# The teachers solution\n",
    "string1 = \"Tom Marvolo Riddle\"\n",
    "string2 = \"I am Lord Voldemort\"\n",
    "\n",
    "def anagram(string1, string2):\n",
    "    string_a = string1.lower().replace(\" \", \"\")\n",
    "    string_b = string2.lower().replace(\" \", \"\")\n",
    "    if len(string_a) != len(string_b):\n",
    "        return False\n",
    "    seen_a = dict()\n",
    "    seen_b = dict()\n",
    "    for index in range(len(string_a)):\n",
    "        if string_a[index] in seen_a.keys():\n",
    "            seen_a[string_a[index]] += 1\n",
    "        else:\n",
    "            seen_a[string_a[index]] = 1\n",
    "        if string_b[index] in seen_b.keys():\n",
    "            seen_b[string_b[index]] += 1\n",
    "        else:\n",
    "            seen_b[string_b[index]] = 1\n",
    "    return seen_a == seen_b\n",
    "\n",
    "print(anagram(string1, string2))"
   ]
  },
  {
   "cell_type": "code",
   "execution_count": null,
   "id": "ac204287",
   "metadata": {},
   "outputs": [],
   "source": []
  }
 ],
 "metadata": {
  "kernelspec": {
   "display_name": "Python 3 (ipykernel)",
   "language": "python",
   "name": "python3"
  },
  "language_info": {
   "codemirror_mode": {
    "name": "ipython",
    "version": 3
   },
   "file_extension": ".py",
   "mimetype": "text/x-python",
   "name": "python",
   "nbconvert_exporter": "python",
   "pygments_lexer": "ipython3",
   "version": "3.10.6"
  }
 },
 "nbformat": 4,
 "nbformat_minor": 5
}
