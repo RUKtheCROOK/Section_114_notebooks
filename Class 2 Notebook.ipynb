{
 "cells": [
  {
   "cell_type": "code",
   "execution_count": 1,
   "id": "54c65e03",
   "metadata": {},
   "outputs": [],
   "source": [
    "# This is the start of notebook 2"
   ]
  },
  {
   "cell_type": "code",
   "execution_count": 19,
   "id": "dfe282a6",
   "metadata": {},
   "outputs": [],
   "source": [
    "# simple approach\n",
    "class Stack:\n",
    "    def __init__(self):\n",
    "        self.items = []\n",
    "    def push(self, element):\n",
    "        self.items.append(element) \n",
    "    def pop(self):\n",
    "        return self.items.pop()\n",
    "#     nice to have\n",
    "    def is_empty(self):\n",
    "        return self.items == []\n",
    "    def size(self):\n",
    "        return len(slef.items)\n",
    "    def peek(self):\n",
    "        return self.items[len(self.items)-1]"
   ]
  },
  {
   "cell_type": "code",
   "execution_count": 22,
   "id": "ec6022da",
   "metadata": {},
   "outputs": [
    {
     "data": {
      "text/plain": [
       "'ymmiJ'"
      ]
     },
     "execution_count": 22,
     "metadata": {},
     "output_type": "execute_result"
    }
   ],
   "source": [
    "def invert_str(string):\n",
    "    stack = Stack()\n",
    "    for letter in string:\n",
    "        stack.push(letter)\n",
    "    out = \"\"\n",
    "    while not stack.is_empty():\n",
    "        out += stack.pop()\n",
    "    return out\n",
    "\n",
    "invert_str(\"Jimmy\")"
   ]
  },
  {
   "cell_type": "code",
   "execution_count": 23,
   "id": "8f45844e",
   "metadata": {},
   "outputs": [],
   "source": [
    "class Node:\n",
    "    def __init__(self, data):\n",
    "        self.data = data\n",
    "        self.above = None"
   ]
  },
  {
   "cell_type": "code",
   "execution_count": 1,
   "id": "b638e386",
   "metadata": {},
   "outputs": [],
   "source": [
    "# C python\n",
    "# Garbage collected\n",
    "# refference counting\n",
    "# when refference for an obj in memory reaches 0, it gets collected/freed up to be written to.\n",
    "\n",
    "class Stack:\n",
    "    def __init__(self):\n",
    "        self.base = None\n",
    "        \n",
    "    def push(self, element):\n",
    "#         What happens if stack is empty and push is called?\n",
    "        new_node = Node(element)\n",
    "        if not self.base:\n",
    "            self.base = new_node\n",
    "        else:\n",
    "            current = self.base\n",
    "            while current.above:\n",
    "                current = current.above\n",
    "            current.above = new_node\n",
    "    def pop(self):\n",
    "        if not self.base:                    #== if self.base == None\n",
    "            raise IndexError(\"Stack empty\")  #raise exception\n",
    "        else:\n",
    "            current = self.base\n",
    "            prev = none\n",
    "            while current.above:\n",
    "                prev = current\n",
    "                current = current.above\n",
    "            if not prev:\n",
    "                datum = self.base.data\n",
    "                self.base = None\n",
    "                return datum\n",
    "            else:\n",
    "                datum = current.data\n",
    "                prev.above = None\n",
    "                return datum\n",
    "    \n",
    "    def is_empty(self):\n",
    "        return self.base == None\n",
    "    \n",
    "    def size(self):\n",
    "#         do a count\n",
    "#         try to account for empty, 1 node, and more than 1\n",
    "        count = 0    #empty\n",
    "        current = self.base\n",
    "        while current:   #if current is not equal to none, count will go up but else it wont\n",
    "            count += 1\n",
    "            current = current.above      #and current is changed to current.above to account for anything over 1\n",
    "        return count\n",
    "    \n",
    "    def peek(self):\n",
    "        if not self.base:                    #== if self.base == None\n",
    "            raise IndexError(\"Stack empty\")  #raise exception\n",
    "        else:\n",
    "            current = self.base\n",
    "            while current.above:\n",
    "                current = current.above\n",
    "            return current.data\n",
    "    def __len__(self):\n",
    "        return self.size()"
   ]
  },
  {
   "cell_type": "code",
   "execution_count": 25,
   "id": "ce215e39",
   "metadata": {},
   "outputs": [
    {
     "name": "stdout",
     "output_type": "stream",
     "text": [
      "5\n",
      "140653981680016\n",
      "140653981679984\n"
     ]
    }
   ],
   "source": [
    "# Primary data types\n",
    "# int, float, bool, imaginary\n",
    "# passed by value\n",
    "\n",
    "x=5\n",
    "y=x\n",
    "\n",
    "x=x+1\n",
    "\n",
    "print(y)\n",
    "print(id(x))\n",
    "print(id(y))"
   ]
  },
  {
   "cell_type": "code",
   "execution_count": 26,
   "id": "bbe252f2",
   "metadata": {},
   "outputs": [
    {
     "name": "stdout",
     "output_type": "stream",
     "text": [
      "[1, 2, 3, 4]\n",
      "140653500517760\n",
      "140653500517760\n"
     ]
    }
   ],
   "source": [
    "# other data types\n",
    "# pass by refference\n",
    "\n",
    "x = [1,2,3]\n",
    "\n",
    "y=x\n",
    "\n",
    "x.append(4)\n",
    "\n",
    "print(y)\n",
    "print(id(x))\n",
    "print(id(y))"
   ]
  },
  {
   "cell_type": "code",
   "execution_count": 27,
   "id": "942d03cc",
   "metadata": {},
   "outputs": [],
   "source": [
    "# simple quere\n",
    "class Queue:\n",
    "    def __init__(self):\n",
    "        self.itmes = []\n",
    "    def enqueue(self, element):\n",
    "        self.items.insert(0, element)\n",
    "    def dequeue(self):\n",
    "        return self.items.pop()\n",
    "    \n",
    "#     nice to have\n",
    "    def is_empty(self):\n",
    "        return self.items == []\n",
    "    def size(self):\n",
    "        return len(self.items)\n",
    "    def peek(self):\n",
    "        return self.items[len(self.items)-1]"
   ]
  },
  {
   "cell_type": "code",
   "execution_count": null,
   "id": "ccc9512b",
   "metadata": {},
   "outputs": [],
   "source": [
    "# In our stack implementation, we chose to keep track of the base node; How would keeping track of the top node change performance?\n",
    "# As a follow up, What operations (or methods) would need to change?\n",
    "\n",
    "# extra: Try your hand at the \"from scratch\" implemenation for Queue.\n"
   ]
  }
 ],
 "metadata": {
  "kernelspec": {
   "display_name": "Python 3 (ipykernel)",
   "language": "python",
   "name": "python3"
  },
  "language_info": {
   "codemirror_mode": {
    "name": "ipython",
    "version": 3
   },
   "file_extension": ".py",
   "mimetype": "text/x-python",
   "name": "python",
   "nbconvert_exporter": "python",
   "pygments_lexer": "ipython3",
   "version": "3.10.6"
  }
 },
 "nbformat": 4,
 "nbformat_minor": 5
}
